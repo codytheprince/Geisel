{
 "cells": [
  {
   "cell_type": "code",
   "execution_count": 5,
   "metadata": {},
   "outputs": [
    {
     "data": {
      "text/plain": [
       "\"Late one night you find yourself struggling to study for a final exam at UCSD.\\nAfter applying yourself for hours and hours your finally reach a point where you can no longer keep your eyes open.\\nIt it looks like you are spending, A Night in Geisel!\\nA Night In Geisel is a text based adventure game in which players must escape UC San Diego's famous yet haunted Geisel Library!\\nPlayers are able to choose their own name and guide their player through a series of decisions with the ultimate goal of making it out of the library alive!\""
      ]
     },
     "execution_count": 5,
     "metadata": {},
     "output_type": "execute_result"
    }
   ],
   "source": [
    "'''Late one night you find yourself struggling to study for a final exam at UCSD.\n",
    "After applying yourself for hours and hours your finally reach a point where you can no longer keep your eyes open.\n",
    "It it looks like you are spending, A Night in Geisel!\n",
    "A Night In Geisel is a text based adventure game in which players must escape UC San Diego's famous yet haunted Geisel Library!\n",
    "Players are able to choose their own name and guide their player through a series of decisions with the ultimate goal of making it out of the library alive!'''\n"
   ]
  },
  {
   "cell_type": "code",
   "execution_count": 1,
   "metadata": {
    "scrolled": true
   },
   "outputs": [
    {
     "name": "stdout",
     "output_type": "stream",
     "text": [
      "                                 A Night in Geisel!                           \n",
      "------------------------------------------------------------------------------\n",
      "******************************************************************************\n",
      "------------------------------------------------------------------------------\n",
      "What is your name?\n",
      "Cody\n",
      "Cody Wakes up, it is pitch black....\n",
      "The last thing Cody remembers is studying for a final exam in Geisel Library....\n",
      "After looking around it appears that Cody is still on the 14th floor.\n",
      "Cody shouts-- Hello! is anyone there?? There is no response, it appears as though you are entirely alone...\n",
      "What should Cody do?\n",
      "A - Go to the elevator.\n",
      "B - Go to the stairs.\n",
      "C - Go back to sleep.\n",
      ">>> b\n",
      "Cody goes to the stairwell and opens the door, but it is extremely dark inside.\n",
      "Should they use their phone for light?\n",
      "Yes or No?\n",
      ">>> yes\n",
      "Cody pulls out an iPhone and starts down the stairs.\n",
      "As Cody walks down, floor after floor, they begin to smell a musty odor and hear footsteps coming closer.\n",
      "A faint whisper on the air appears to say  Cody....Cody..... in a way that sends chills up their spine\n",
      "What should they do?\n",
      "A - Continue walking carefully\n",
      "B - Run!\n",
      "C - Go back to the 14th floor.\n",
      ">>>a\n",
      "Cody continues down the stairs but the footsteps are still getting closer, and they begin to hear heavy breathing.\n",
      "The fear is crippling!\n",
      "Should they run now?\n",
      "Yes or No?\n",
      ">>>yes\n",
      "Cody started running down the stairs as fast as their legs would cary them!\n",
      "As they finally reached the 1st floor they tripped on the last stair and hitting their head as they fell Cody DIED!!!\n",
      "\n",
      "------------------------------------------------------------------------------\n",
      "*****************************GAME OVER!!!*************************************\n",
      "------------------------------------------------------------------------------\n",
      "\n",
      "\n"
     ]
    }
   ],
   "source": [
    "import my_module.functions\n",
    "import my_module.test_functions"
   ]
  }
 ],
 "metadata": {
  "kernelspec": {
   "display_name": "Python 3",
   "language": "python",
   "name": "python3"
  },
  "language_info": {
   "codemirror_mode": {
    "name": "ipython",
    "version": 3
   },
   "file_extension": ".py",
   "mimetype": "text/x-python",
   "name": "python",
   "nbconvert_exporter": "python",
   "pygments_lexer": "ipython3",
   "version": "3.7.4"
  }
 },
 "nbformat": 4,
 "nbformat_minor": 2
}
